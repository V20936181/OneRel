{
 "cells": [
  {
   "cell_type": "code",
   "execution_count": 13,
   "id": "af66ffbe-9124-44c2-aec3-a93a37e490a1",
   "metadata": {
    "tags": []
   },
   "outputs": [
    {
     "name": "stdout",
     "output_type": "stream",
     "text": [
      "✅ Saved first 10000 entries to NYTS/dev_triples.json\n"
     ]
    }
   ],
   "source": [
    "import json\n",
    "\n",
    "def extract_first_n_entries(input_path, output_path, n):\n",
    "    with open(input_path, 'r', encoding='utf-8') as infile:\n",
    "        data = json.load(infile)\n",
    "\n",
    "    # Extract the first n entries\n",
    "    subset = data[:n]\n",
    "\n",
    "    with open(output_path, 'w', encoding='utf-8') as outfile:\n",
    "        json.dump(subset, outfile, ensure_ascii=False, indent=4)\n",
    "\n",
    "    print(f\"✅ Saved first {n} entries to {output_path}\")\n",
    "\n",
    "if __name__ == \"__main__\":\n",
    "    input_file = \"NYT/dev_triples.json\"     # Path to your input dataset\n",
    "    output_file = \"NYTS/dev_triples.json\"  # Path to save the subset\n",
    "    num_entries = 10000                     # Change to the desired number of entries\n",
    "\n",
    "    extract_first_n_entries(input_file, output_file, num_entries)"
   ]
  },
  {
   "cell_type": "code",
   "execution_count": null,
   "id": "929eda98-d2fe-4e0f-8c4b-299ac1edf9ef",
   "metadata": {},
   "outputs": [],
   "source": []
  }
 ],
 "metadata": {
  "kernelspec": {
   "display_name": "Python 3 (ipykernel)",
   "language": "python",
   "name": "python3"
  },
  "language_info": {
   "codemirror_mode": {
    "name": "ipython",
    "version": 3
   },
   "file_extension": ".py",
   "mimetype": "text/x-python",
   "name": "python",
   "nbconvert_exporter": "python",
   "pygments_lexer": "ipython3",
   "version": "3.11.7"
  }
 },
 "nbformat": 4,
 "nbformat_minor": 5
}
